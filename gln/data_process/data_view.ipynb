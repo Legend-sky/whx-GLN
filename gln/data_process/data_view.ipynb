{
 "cells": [
  {
   "cell_type": "markdown",
   "metadata": {},
   "source": [
    "#### 1. 得到原始SMILES和规范化SMILES对，储存在 **cano_smiles.pkl** 中"
   ]
  },
  {
   "cell_type": "code",
   "execution_count": 1,
   "metadata": {},
   "outputs": [
    {
     "name": "stdout",
     "output_type": "stream",
     "text": [
      "Namespace(save_dir='../../data/cooked_uspto_50k', dropbox='../../data', cooked_root=None, init_model_dump=None, data_name='uspto_50k', tpl_name=None, tpl_min_cnt=0, phase=None, is_training=True, split_mode='single', bn=True, file_for_eval=None, model_for_eval=None, num_cores=1, num_parts=1, part_id=0, epochs2save=10, max_neg_reacts=0, part_num=0, eval_func='acc', neg_sample='local', num_data_proc=0, topk=1, neg_num=-1, beam_size=1, gm='mean_field', fp_degree=0, latent_dim=64, embed_dim=128, mlp_hidden=256, seed=19260817, max_lv=3, eval_start_idx=0, ggnn_update_type='gru', msg_agg_type='sum', att_type='inner_prod', readout_agg_type='sum', logic_net='gpath', node_dims='128', edge_dims='128', act_func='tanh', gnn_out='last', act_last=True, subg_enc='mean_field', tpl_enc='deepset', neg_local=False, gnn_share_param=False, learning_rate=0.001, grad_clip=5, dropout=0, fp_dim=2048, gen_method='none', test_during_train=False, test_mode='model', num_epochs=10000, epochs_per_part=1, iters_per_val=1000, batch_size=64, retro_during_train=False)\n",
      "40008it [00:00, 123198.50it/s]\n",
      "5001it [00:00, 114703.50it/s]\n",
      "5007it [00:00, 132275.68it/s]\n",
      "100%|████████████████████████████████████| 50016/50016 [00:55<00:00, 908.65it/s]\n",
      "num of smiles 113776\n",
      "# unique smiles 100508\n",
      "# unique atoms: 16\n"
     ]
    }
   ],
   "source": [
    "!python get_canonical_smiles.py -dropbox ../../data -data_name uspto_50k -save_dir ../../data/cooked_uspto_50k"
   ]
  },
  {
   "cell_type": "markdown",
   "metadata": {},
   "source": [
    "#### 2. 从训练数据集中提取反应模板，保存在proc_train_singleprod.csv中，分为4列，第四列为反应模板\n",
    "#### ['id', 'class', 'rxn_smiles', 'retro_templates']"
   ]
  },
  {
   "cell_type": "code",
   "execution_count": 2,
   "metadata": {},
   "outputs": [
    {
     "name": "stdout",
     "output_type": "stream",
     "text": [
      "Namespace(save_dir='../../data/cooked_uspto_50k', dropbox='../../data', cooked_root=None, init_model_dump=None, data_name='uspto_50k', tpl_name=None, tpl_min_cnt=0, phase=None, is_training=True, split_mode='single', bn=True, file_for_eval=None, model_for_eval=None, num_cores=4, num_parts=1, part_id=0, epochs2save=10, max_neg_reacts=0, part_num=0, eval_func='acc', neg_sample='local', num_data_proc=0, topk=1, neg_num=-1, beam_size=1, gm='mean_field', fp_degree=0, latent_dim=64, embed_dim=128, mlp_hidden=256, seed=19260817, max_lv=3, eval_start_idx=0, ggnn_update_type='gru', msg_agg_type='sum', att_type='inner_prod', readout_agg_type='sum', logic_net='gpath', node_dims='128', edge_dims='128', act_func='tanh', gnn_out='last', act_last=True, subg_enc='mean_field', tpl_enc='deepset', neg_local=False, gnn_share_param=False, learning_rate=0.001, grad_clip=5, dropout=0, fp_dim=2048, gen_method='none', test_during_train=False, test_mode='model', num_epochs=10000, epochs_per_part=1, iters_per_val=1000, batch_size=64, retro_during_train=False)\n",
      "40008it [00:00, 671830.19it/s]\n",
      "  0%|                                                 | 0/40008 [00:00<?, ?it/s]/home/dell/whx/whx-GLN/gln/mods/rdchiral/template_extractor.py:491: FutureWarning: Possible nested set at position 4\n",
      "  atom_tags_in_reactant_fragments = re.findall('\\:([[0-9]+)\\]', reactant_fragments)\n",
      "/home/dell/whx/whx-GLN/gln/mods/rdchiral/template_extractor.py:491: FutureWarning: Possible nested set at position 4\n",
      "  atom_tags_in_reactant_fragments = re.findall('\\:([[0-9]+)\\]', reactant_fragments)\n",
      "/home/dell/whx/whx-GLN/gln/mods/rdchiral/template_extractor.py:491: FutureWarning: Possible nested set at position 4\n",
      "  atom_tags_in_reactant_fragments = re.findall('\\:([[0-9]+)\\]', reactant_fragments)\n",
      "/home/dell/whx/whx-GLN/gln/mods/rdchiral/template_extractor.py:491: FutureWarning: Possible nested set at position 4\n",
      "  atom_tags_in_reactant_fragments = re.findall('\\:([[0-9]+)\\]', reactant_fragments)\n",
      "100%|████████████████████████████████████| 40008/40008 [01:22<00:00, 484.50it/s]\n"
     ]
    }
   ],
   "source": [
    "!python build_raw_template.py -dropbox ../../data -data_name uspto_50k -save_dir ../../data/cooked_uspto_50k -num_cores 4"
   ]
  },
  {
   "cell_type": "markdown",
   "metadata": {},
   "source": [
    "#### 3. 提取从39991条模板中提取出唯一的模板，一共有11776条唯一的模板"
   ]
  },
  {
   "cell_type": "code",
   "execution_count": 3,
   "metadata": {},
   "outputs": [
    {
     "name": "stdout",
     "output_type": "stream",
     "text": [
      "Namespace(save_dir='../../data/cooked_uspto_50k/tpl-default', dropbox='../../data', cooked_root=None, init_model_dump=None, data_name='uspto_50k', tpl_name='default', tpl_min_cnt=0, phase=None, is_training=True, split_mode='single', bn=True, file_for_eval=None, model_for_eval=None, num_cores=1, num_parts=1, part_id=0, epochs2save=10, max_neg_reacts=0, part_num=0, eval_func='acc', neg_sample='local', num_data_proc=0, topk=1, neg_num=-1, beam_size=1, gm='mean_field', fp_degree=0, latent_dim=64, embed_dim=128, mlp_hidden=256, seed=19260817, max_lv=3, eval_start_idx=0, ggnn_update_type='gru', msg_agg_type='sum', att_type='inner_prod', readout_agg_type='sum', logic_net='gpath', node_dims='128', edge_dims='128', act_func='tanh', gnn_out='last', act_last=True, subg_enc='mean_field', tpl_enc='deepset', neg_local=False, gnn_share_param=False, learning_rate=0.001, grad_clip=5, dropout=0, fp_dim=2048, gen_method='none', test_during_train=False, test_mode='model', num_epochs=10000, epochs_per_part=1, iters_per_val=1000, batch_size=64, retro_during_train=False)\n",
      "['id', 'class', 'rxn_smiles', 'retro_templates']\n",
      "39991it [00:00, 93810.51it/s]\n",
      "total # templates 11776\n",
      "num templates after filtering 11776\n"
     ]
    }
   ],
   "source": [
    "!python filter_template.py -dropbox ../../data -data_name uspto_50k -tpl_name default -save_dir ../../data/cooked_uspto_50k/tpl-default"
   ]
  },
  {
   "cell_type": "markdown",
   "metadata": {},
   "source": [
    "#### 4. 提取模板中反应物和产物的反应中心\n",
    "#### product的反应中心：prod_cano_smarts.txt\n",
    "#### reactant的反应中心：react_cano_smarts.txt\n",
    "#### 全部反应中心：cano_smarts.pkl"
   ]
  },
  {
   "cell_type": "code",
   "execution_count": null,
   "metadata": {},
   "outputs": [
    {
     "name": "stdout",
     "output_type": "stream",
     "text": [
      "Namespace(save_dir='../../data/cooked_uspto_50k/tpl-default', dropbox='../../data', cooked_root=None, init_model_dump=None, data_name='uspto_50k', tpl_name='default', tpl_min_cnt=0, phase=None, is_training=True, split_mode='single', bn=True, file_for_eval=None, model_for_eval=None, num_cores=1, num_parts=1, part_id=0, epochs2save=10, max_neg_reacts=0, part_num=0, eval_func='acc', neg_sample='local', num_data_proc=0, topk=1, neg_num=-1, beam_size=1, gm='mean_field', fp_degree=0, latent_dim=64, embed_dim=128, mlp_hidden=256, seed=19260817, max_lv=3, eval_start_idx=0, ggnn_update_type='gru', msg_agg_type='sum', att_type='inner_prod', readout_agg_type='sum', logic_net='gpath', node_dims='128', edge_dims='128', act_func='tanh', gnn_out='last', act_last=True, subg_enc='mean_field', tpl_enc='deepset', neg_local=False, gnn_share_param=False, learning_rate=0.001, grad_clip=5, dropout=0, fp_dim=2048, gen_method='none', test_during_train=False, test_mode='model', num_epochs=10000, epochs_per_part=1, iters_per_val=1000, batch_size=64, retro_during_train=False)\n",
      "11776it [00:00, 181298.08it/s]\n",
      "40008it [00:00, 133214.56it/s]\n",
      "5001it [00:00, 132452.54it/s]\n",
      "5007it [00:00, 132324.85it/s]\n",
      "# prod centers: 9207, # react centers: 5465: 100%|█| 11776/11776 [00:04<00:00, 2\n",
      "# prod centers: 9207, # react centers: 5465\n"
     ]
    }
   ],
   "source": [
    "!python get_canonical_smarts.py \\\n",
    "    -dropbox ../../data \\\n",
    "    -data_name uspto_50k \\\n",
    "    -save_dir ../../data/cooked_uspto_50k/tpl-default \\\n",
    "    -tpl_name default \\"
   ]
  },
  {
   "cell_type": "markdown",
   "metadata": {},
   "source": [
    "#### 5. #找出train，test，val中每条rxn反应的product匹配的所有反应中心的位置idx\n",
    "#### 储存为[train,test,val]-pro_center_maps-part-0.csv"
   ]
  },
  {
   "cell_type": "code",
   "execution_count": 5,
   "metadata": {},
   "outputs": [
    {
     "name": "stdout",
     "output_type": "stream",
     "text": [
      "Namespace(save_dir='../../data/cooked_uspto_50k/tpl-default', dropbox='../../data', cooked_root=None, init_model_dump=None, data_name='uspto_50k', tpl_name='default', tpl_min_cnt=0, phase=None, is_training=True, split_mode='single', bn=True, file_for_eval=None, model_for_eval=None, num_cores=8, num_parts=1, part_id=0, epochs2save=10, max_neg_reacts=0, part_num=0, eval_func='acc', neg_sample='local', num_data_proc=0, topk=1, neg_num=-1, beam_size=1, gm='mean_field', fp_degree=0, latent_dim=64, embed_dim=128, mlp_hidden=256, seed=19260817, max_lv=3, eval_start_idx=0, ggnn_update_type='gru', msg_agg_type='sum', att_type='inner_prod', readout_agg_type='sum', logic_net='gpath', node_dims='128', edge_dims='128', act_func='tanh', gnn_out='last', act_last=True, subg_enc='mean_field', tpl_enc='deepset', neg_local=False, gnn_share_param=False, learning_rate=0.001, grad_clip=5, dropout=0, fp_dim=2048, gen_method='none', test_during_train=False, test_mode='model', num_epochs=10000, epochs_per_part=1, iters_per_val=1000, batch_size=64, retro_during_train=False)\n",
      "100%|████████████████████████████████████| 9207/9207 [00:00<00:00, 26037.16it/s]\n",
      "num of prod centers 9207\n",
      "num of smiles 113776\n",
      "40008it [00:00, 126688.75it/s]\n",
      "100%|████████████████████████████████████| 40008/40008 [03:13<00:00, 207.08it/s]\n",
      "5001it [00:00, 115940.45it/s]\n",
      "100%|██████████████████████████████████████| 5001/5001 [00:24<00:00, 205.86it/s]\n",
      "5007it [00:00, 117824.27it/s]\n",
      "100%|██████████████████████████████████████| 5007/5007 [00:24<00:00, 205.90it/s]\n"
     ]
    }
   ],
   "source": [
    "!python find_centers.py \\\n",
    "    -dropbox ../../data \\\n",
    "    -data_name uspto_50k \\\n",
    "    -tpl_name default \\\n",
    "    -save_dir ../../data/cooked_uspto_50k/tpl-default \\\n",
    "    -num_cores 8 \\\n",
    "    -num_parts 1 \\\n",
    "    $@"
   ]
  },
  {
   "cell_type": "markdown",
   "metadata": {},
   "source": [
    "#### 6. 将上一步得到的所有可能的反应中心对应的模板进行化学模拟，生成对应的反应物，分别为正样本与负样本"
   ]
  },
  {
   "cell_type": "code",
   "execution_count": 1,
   "metadata": {},
   "outputs": [
    {
     "name": "stdout",
     "output_type": "stream",
     "text": [
      "Namespace(save_dir='../../data/cooked_uspto_50k/tpl-default', dropbox='../../data', cooked_root=None, init_model_dump=None, data_name='uspto_50k', tpl_name='default', tpl_min_cnt=0, phase='cooking', is_training=True, split_mode='single', bn=True, file_for_eval=None, model_for_eval=None, num_cores=4, num_parts=1, part_id=0, epochs2save=10, max_neg_reacts=0, part_num=0, eval_func='acc', neg_sample='local', num_data_proc=0, topk=1, neg_num=-1, beam_size=1, gm='mean_field', fp_degree=0, latent_dim=64, embed_dim=128, mlp_hidden=256, seed=19260817, max_lv=3, eval_start_idx=0, ggnn_update_type='gru', msg_agg_type='sum', att_type='inner_prod', readout_agg_type='sum', logic_net='gpath', node_dims='128', edge_dims='128', act_func='tanh', gnn_out='last', act_last=True, subg_enc='mean_field', tpl_enc='deepset', neg_local=False, gnn_share_param=False, learning_rate=0.001, grad_clip=5, dropout=0, fp_dim=2048, gen_method='none', test_during_train=False, test_mode='model', num_epochs=10000, epochs_per_part=1, iters_per_val=1000, batch_size=64, retro_during_train=False)\n",
      "====== begin of gnn_clib configuration ======\n",
      "| num_atom_types = 16\n",
      "| nodefeat_dim = 39\n",
      "| edgefeat_dim = 7\n",
      "======   end of gnn_clib configuration ======\n",
      "loading data info from ../../data/cooked_uspto_50k/tpl-default\n",
      "loading templates\n",
      "11776it [00:00, 124326.35it/s]\n",
      "# unique templates 11776\n",
      "# raw train loaded 40008\n",
      "loading training prod center maps\n",
      "40008it [00:00, 68482.04it/s]\n",
      "average # centers per mol: 31.94113650090598\n",
      "100%|███████████████████████████████████| 40008/40008 [1:12:06<00:00,  9.25it/s]\n"
     ]
    }
   ],
   "source": [
    "!python build_all_reactions.py \\\n",
    "    -dropbox ../../data \\\n",
    "    -phase cooking \\\n",
    "    -data_name uspto_50k \\\n",
    "    -save_dir ../../data/cooked_uspto_50k/tpl-default \\\n",
    "    -tpl_name default \\\n",
    "    -f_atoms ../../data/cooked_uspto_50k/atom_list.txt \\\n",
    "    -num_cores 4 \\\n",
    "    -num_parts 1 \\\n",
    "    -gpu -1 \\\n",
    "    $@"
   ]
  },
  {
   "cell_type": "markdown",
   "metadata": {},
   "source": [
    "#### 7. 得到smiles,反应中心，失败反应物的图结构文件.names/.bin/.fp2"
   ]
  },
  {
   "cell_type": "code",
   "execution_count": 2,
   "metadata": {},
   "outputs": [
    {
     "name": "stdout",
     "output_type": "stream",
     "text": [
      "Namespace(save_dir='../../data/cooked_uspto_50k/tpl-default', dropbox='../../data', cooked_root=None, init_model_dump=None, data_name='uspto_50k', tpl_name='default', tpl_min_cnt=0, phase=None, is_training=True, split_mode='single', bn=True, file_for_eval=None, model_for_eval=None, num_cores=1, num_parts=1, part_id=0, epochs2save=10, max_neg_reacts=0, part_num=0, eval_func='acc', neg_sample='local', num_data_proc=0, topk=1, neg_num=-1, beam_size=1, gm='mean_field', fp_degree=2, latent_dim=64, embed_dim=128, mlp_hidden=256, seed=19260817, max_lv=3, eval_start_idx=0, ggnn_update_type='gru', msg_agg_type='sum', att_type='inner_prod', readout_agg_type='sum', logic_net='gpath', node_dims='128', edge_dims='128', act_func='tanh', gnn_out='last', act_last=True, subg_enc='mean_field', tpl_enc='deepset', neg_local=False, gnn_share_param=False, learning_rate=0.001, grad_clip=5, dropout=0, fp_dim=2048, gen_method='none', test_during_train=False, test_mode='model', num_epochs=10000, epochs_per_part=1, iters_per_val=1000, batch_size=64, retro_during_train=False)\n",
      "====== begin of gnn_clib configuration ======\n",
      "| num_atom_types = 16\n",
      "| nodefeat_dim = 39\n",
      "| edgefeat_dim = 7\n",
      "======   end of gnn_clib configuration ======\n",
      "100%|█████████████████████████████████| 113776/113776 [00:45<00:00, 2476.53it/s]\n",
      "100%|███████████████████████████████| 100508/100508 [00:00<00:00, 160647.40it/s]\n",
      "100508 molecules saved\n",
      "total # nodes 2338696\n",
      "total # edges 2506794\n",
      "100%|███████████████████████████████████| 14672/14672 [00:02<00:00, 7203.27it/s]\n",
      "100%|█████████████████████████████████| 14293/14293 [00:00<00:00, 340759.78it/s]\n",
      "14293 molecules saved\n",
      "total # nodes 117338\n",
      "total # edges 107166\n"
     ]
    }
   ],
   "source": [
    "!python dump_graphs.py \\\n",
    "    -dropbox ../../data \\\n",
    "    -data_name uspto_50k \\\n",
    "    -tpl_name default \\\n",
    "    -save_dir ../../data/cooked_uspto_50k/tpl-default \\\n",
    "    -f_atoms ../../data/cooked_uspto_50k/atom_list.txt \\\n",
    "    -num_parts 1 \\\n",
    "    -fp_degree 2 \\\n",
    "    -retro_during_train False \\\n",
    "    $@"
   ]
  },
  {
   "cell_type": "code",
   "execution_count": 3,
   "metadata": {},
   "outputs": [
    {
     "name": "stdout",
     "output_type": "stream",
     "text": [
      "Namespace(save_dir='../../data/cooked_uspto_50k/tpl-default', dropbox='../../data', cooked_root=None, init_model_dump=None, data_name='uspto_50k', tpl_name='default', tpl_min_cnt=0, phase=None, is_training=True, split_mode='single', bn=True, file_for_eval=None, model_for_eval=None, num_cores=1, num_parts=1, part_id=0, epochs2save=10, max_neg_reacts=0, part_num=0, eval_func='acc', neg_sample='local', num_data_proc=0, topk=1, neg_num=-1, beam_size=1, gm='mean_field', fp_degree=2, latent_dim=64, embed_dim=128, mlp_hidden=256, seed=19260817, max_lv=3, eval_start_idx=0, ggnn_update_type='gru', msg_agg_type='sum', att_type='inner_prod', readout_agg_type='sum', logic_net='gpath', node_dims='128', edge_dims='128', act_func='tanh', gnn_out='last', act_last=True, subg_enc='mean_field', tpl_enc='deepset', neg_local=False, gnn_share_param=False, learning_rate=0.001, grad_clip=5, dropout=0, fp_dim=2048, gen_method='none', test_during_train=False, test_mode='model', num_epochs=10000, epochs_per_part=1, iters_per_val=1000, batch_size=64, retro_during_train=True)\n",
      "====== begin of gnn_clib configuration ======\n",
      "| num_atom_types = 16\n",
      "| nodefeat_dim = 39\n",
      "| edgefeat_dim = 7\n",
      "======   end of gnn_clib configuration ======\n",
      "3240627it [38:04, 1418.46it/s]\n",
      "100%|█████████████████████████████| 3846829/3846829 [00:27<00:00, 137422.23it/s]\n",
      "3846829 molecules saved\n",
      "total # nodes 118747700\n",
      "total # edges 126644080\n"
     ]
    }
   ],
   "source": [
    "!python dump_graphs.py \\\n",
    "    -dropbox ../../data \\\n",
    "    -data_name uspto_50k \\\n",
    "    -tpl_name default \\\n",
    "    -save_dir ../../data/cooked_uspto_50k/tpl-default \\\n",
    "    -f_atoms ../../data/cooked_uspto_50k/atom_list.txt \\\n",
    "    -num_parts 1 \\\n",
    "    -fp_degree 2 \\\n",
    "    -retro_during_train True \\\n",
    "    $@"
   ]
  }
 ],
 "metadata": {
  "kernelspec": {
   "display_name": "whx-GLN",
   "language": "python",
   "name": "python3"
  },
  "language_info": {
   "codemirror_mode": {
    "name": "ipython",
    "version": 3
   },
   "file_extension": ".py",
   "mimetype": "text/x-python",
   "name": "python",
   "nbconvert_exporter": "python",
   "pygments_lexer": "ipython3",
   "version": "3.9.21"
  }
 },
 "nbformat": 4,
 "nbformat_minor": 2
}
