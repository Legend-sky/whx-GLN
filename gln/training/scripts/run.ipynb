{
 "cells": [
  {
   "metadata": {
    "ExecuteTime": {
     "end_time": "2025-03-06T07:35:27.091200Z",
     "start_time": "2025-03-06T07:35:27.081650Z"
    }
   },
   "cell_type": "code",
   "source": [
    "import os\n",
    "data_name = \"schneider50k\"\n",
    "dropbox = \"../../../dropbox\"\n",
    "save_dir = f\"{dropbox}/results/{data_name}\"\n",
    "\n",
    "os.environ[\"CUDA_VISIBLE_DEVICES\"] = \"0\"\n",
    "os.environ[\"OMP_NUM_THREADS\"] = \"2\""
   ],
   "id": "492c2c01a1b70b19",
   "outputs": [],
   "execution_count": 10
  },
  {
   "metadata": {
    "ExecuteTime": {
     "end_time": "2025-03-06T07:46:21.782159Z",
     "start_time": "2025-03-06T07:46:21.750451Z"
    }
   },
   "cell_type": "code",
   "source": [
    "from gln.mods.mol_gnn.mg_clib import MGLIB\n",
    "print(MGLIB)"
   ],
   "id": "95ebc63fdabc1dc1",
   "outputs": [
    {
     "ename": "AttributeError",
     "evalue": "'NoneType' object has no attribute 'NUM_NODE_FEATS'",
     "output_type": "error",
     "traceback": [
      "\u001B[1;31m---------------------------------------------------------------------------\u001B[0m",
      "\u001B[1;31mAttributeError\u001B[0m                            Traceback (most recent call last)",
      "Cell \u001B[1;32mIn[13], line 1\u001B[0m\n\u001B[1;32m----> 1\u001B[0m \u001B[38;5;28;01mfrom\u001B[39;00m\u001B[38;5;250m \u001B[39m\u001B[38;5;21;01mgln\u001B[39;00m\u001B[38;5;21;01m.\u001B[39;00m\u001B[38;5;21;01mmods\u001B[39;00m\u001B[38;5;21;01m.\u001B[39;00m\u001B[38;5;21;01mmol_gnn\u001B[39;00m\u001B[38;5;21;01m.\u001B[39;00m\u001B[38;5;21;01mmg_clib\u001B[39;00m\u001B[38;5;250m \u001B[39m\u001B[38;5;28;01mimport\u001B[39;00m MGLIB\n\u001B[0;32m      2\u001B[0m \u001B[38;5;28mprint\u001B[39m(MGLIB)\n",
      "File \u001B[1;32mD:\\Retro\\whx-GLN\\gln\\mods\\mol_gnn\\mg_clib\\__init__.py:3\u001B[0m\n\u001B[0;32m      1\u001B[0m \u001B[38;5;28;01mfrom\u001B[39;00m\u001B[38;5;250m \u001B[39m\u001B[38;5;21;01m.\u001B[39;00m\u001B[38;5;21;01mmg_lib\u001B[39;00m\u001B[38;5;250m \u001B[39m\u001B[38;5;28;01mimport\u001B[39;00m MGLIB\n\u001B[1;32m----> 3\u001B[0m NUM_NODE_FEATS \u001B[38;5;241m=\u001B[39m \u001B[43mMGLIB\u001B[49m\u001B[38;5;241;43m.\u001B[39;49m\u001B[43mNUM_NODE_FEATS\u001B[49m\n\u001B[0;32m      4\u001B[0m NUM_EDGE_FEATS \u001B[38;5;241m=\u001B[39m MGLIB\u001B[38;5;241m.\u001B[39mNUM_EDGE_FEATS\n",
      "\u001B[1;31mAttributeError\u001B[0m: 'NoneType' object has no attribute 'NUM_NODE_FEATS'"
     ]
    }
   ],
   "execution_count": 13
  },
  {
   "metadata": {
    "ExecuteTime": {
     "end_time": "2025-03-06T07:39:21.786400Z",
     "start_time": "2025-03-06T07:39:18.860377Z"
    }
   },
   "cell_type": "code",
   "source": [
    "!python ../main.py \\\n",
    "    -gm mean_field \\\n",
    "    -fp_degree 2 \\\n",
    "    -neg_sample all \\\n",
    "    -att_type bilinear \\\n",
    "    -gnn_out last \\\n",
    "    -tpl_enc deepset \\\n",
    "    -subg_enc mean_field \\\n",
    "    -latent_dim 128 \\\n",
    "    -bn True \\\n",
    "    -gen_method weighted \\\n",
    "    -retro_during_train True \\\n",
    "    -neg_num 64 \\\n",
    "    -embed_dim 256 \\\n",
    "    -readout_agg_type max \\\n",
    "    -act_func relu \\\n",
    "    -act_last True \\\n",
    "    -max_lv 3 \\\n",
    "    -dropbox {dropbox} \\\n",
    "    -data_name {data_name} \\\n",
    "    -save_dir {save_dir} \\\n",
    "    -tpl_name default \\\n",
    "    -f_atoms {dropbox}/cooked_{data_name}/atom_list.txt \\\n",
    "    -iters_per_val 3000 \\\n",
    "    -gpu 0 \\\n",
    "    -topk 50 \\\n",
    "    -beam_size 50 \\\n",
    "    -num_parts 1 \\"
   ],
   "id": "5cd51f746d643ed2",
   "outputs": [
    {
     "name": "stdout",
     "output_type": "stream",
     "text": [
      "Namespace(save_dir='../../../dropbox/results/schneider50k', dropbox='../../../dropbox', cooked_root=None, init_model_dump=None, data_name='schneider50k', tpl_name='default', tpl_min_cnt=0, phase=None, is_training=True, split_mode='single', bn=True, file_for_eval=None, model_for_eval=None, num_cores=1, num_parts=1, part_id=0, epochs2save=1, max_neg_reacts=0, part_num=0, eval_func='acc', neg_sample='all', num_data_proc=0, topk=50, neg_num=64, beam_size=50, gm='mean_field', fp_degree=2, latent_dim=128, embed_dim=256, mlp_hidden=256, seed=19260817, max_lv=3, eval_start_idx=0, ggnn_update_type='gru', msg_agg_type='sum', att_type='bilinear', readout_agg_type='max', logic_net='gpath', node_dims='128', edge_dims='128', act_func='relu', gnn_out='last', act_last=True, subg_enc='mean_field', tpl_enc='deepset', neg_local=False, gnn_share_param=False, learning_rate=0.001, grad_clip=5, dropout=0, fp_dim=2048, gen_method='weighted', test_during_train=False, test_mode='model', num_epochs=10000, epochs_per_part=1, iters_per_val=3000, batch_size=64, retro_during_train=True)\n",
      "use gpu indexed: 0\n"
     ]
    },
    {
     "name": "stderr",
     "output_type": "stream",
     "text": [
      "Traceback (most recent call last):\n",
      "  File \"D:\\Retro\\whx-GLN\\gln\\training\\main.py\", line 20, in <module>\n",
      "    from gln.data_process.data_info import load_bin_feats, DataInfo\n",
      "  File \"D:\\Retro\\whx-GLN\\gln\\data_process\\data_info.py\", line 16, in <module>\n",
      "    from gln.mods.mol_gnn.mol_utils import SmilesMols, SmartsMols\n",
      "  File \"D:\\Retro\\whx-GLN\\gln\\mods\\mol_gnn\\mol_utils.py\", line 11, in <module>\n",
      "    from gln.mods.mol_gnn.mg_clib.mg_lib import MGLIB\n",
      "  File \"D:\\Retro\\whx-GLN\\gln\\mods\\mol_gnn\\mg_clib\\__init__.py\", line 3, in <module>\n",
      "    NUM_NODE_FEATS = MGLIB.NUM_NODE_FEATS\n",
      "AttributeError: 'NoneType' object has no attribute 'NUM_NODE_FEATS'\n"
     ]
    }
   ],
   "execution_count": 11
  },
  {
   "metadata": {},
   "cell_type": "code",
   "outputs": [],
   "execution_count": null,
   "source": "",
   "id": "9d72a1e8192702e7"
  }
 ],
 "metadata": {
  "kernelspec": {
   "display_name": "Python 3",
   "language": "python",
   "name": "python3"
  },
  "language_info": {
   "codemirror_mode": {
    "name": "ipython",
    "version": 2
   },
   "file_extension": ".py",
   "mimetype": "text/x-python",
   "name": "python",
   "nbconvert_exporter": "python",
   "pygments_lexer": "ipython2",
   "version": "2.7.6"
  }
 },
 "nbformat": 4,
 "nbformat_minor": 5
}
